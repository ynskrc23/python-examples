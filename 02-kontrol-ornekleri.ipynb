{
 "cells": [
  {
   "cell_type": "code",
   "execution_count": 1,
   "id": "51034cb7",
   "metadata": {},
   "outputs": [
    {
     "name": "stdout",
     "output_type": "stream",
     "text": [
      "Sayi : 25\n",
      "Tek\n"
     ]
    }
   ],
   "source": [
    "#Tek mi Çift mi kontrolü\n",
    "sayi = int(input('Sayi : '))\n",
    "if(sayi %2 == 0):\n",
    "      print(\"Çift\")\n",
    "else:\n",
    "      print(\"Tek\")"
   ]
  },
  {
   "cell_type": "code",
   "execution_count": 2,
   "id": "7791c1f1",
   "metadata": {},
   "outputs": [
    {
     "name": "stdout",
     "output_type": "stream",
     "text": [
      "Yaşınız : 36\n",
      "sınava girebilirsiniz\n"
     ]
    }
   ],
   "source": [
    "#Ehliyet yaşı hesaplama\n",
    "yas = int(input('Yaşınız : '))\n",
    "if(yas >= 18):\n",
    "      print(\"sınava girebilirsiniz\")\n",
    "else:\n",
    "      print(\"yaşınız 18'ten küçük\")"
   ]
  },
  {
   "cell_type": "code",
   "execution_count": 4,
   "id": "64f5b6a5",
   "metadata": {},
   "outputs": [
    {
     "name": "stdout",
     "output_type": "stream",
     "text": [
      "a değerini yazın : 2\n",
      "b değerini yazın : 4\n",
      "c değerini yazın : 9\n",
      "denklemin gerçel kökleri yoktur\n"
     ]
    }
   ],
   "source": [
    "#İkinci derceden denklem köklerini hesaplama\n",
    "from math import *\n",
    "a = int(input(\"a değerini yazın : \"))\n",
    "b = int(input(\"b değerini yazın : \"))\n",
    "c = int(input(\"c değerini yazın : \"))\n",
    "delta = b * b - 4 * a * c\n",
    "if delta < 0:\n",
    "    print(\"denklemin gerçel kökleri yoktur\")\n",
    "elif delta == 0:\n",
    "    x = (-b - sqrt(delta)) / (2*a)\n",
    "    print(\"denklemin çakışık iki kökü vardır\")\n",
    "    print(x)\n",
    "else:\n",
    "    x1 = (-b - sqrt(delta)) / (2 * a)\n",
    "    x2 = (-b + sqrt(delta)) / (2 * a)\n",
    "    print(\"denklemin farklı reel iki kökü vardır\")\n",
    "    print(x1)\n",
    "    print(x2)"
   ]
  },
  {
   "cell_type": "code",
   "execution_count": null,
   "id": "e43f8e96",
   "metadata": {},
   "outputs": [],
   "source": []
  }
 ],
 "metadata": {
  "kernelspec": {
   "display_name": "Python 3 (ipykernel)",
   "language": "python",
   "name": "python3"
  },
  "language_info": {
   "codemirror_mode": {
    "name": "ipython",
    "version": 3
   },
   "file_extension": ".py",
   "mimetype": "text/x-python",
   "name": "python",
   "nbconvert_exporter": "python",
   "pygments_lexer": "ipython3",
   "version": "3.9.12"
  }
 },
 "nbformat": 4,
 "nbformat_minor": 5
}
