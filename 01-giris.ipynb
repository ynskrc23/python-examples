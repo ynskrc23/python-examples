{
 "cells": [
  {
   "cell_type": "code",
   "execution_count": 1,
   "id": "7d398fe7",
   "metadata": {},
   "outputs": [
    {
     "name": "stdout",
     "output_type": "stream",
     "text": [
      "Merhaba Elbistan\n"
     ]
    }
   ],
   "source": [
    "print(\"Merhaba Elbistan\")"
   ]
  },
  {
   "cell_type": "code",
   "execution_count": 2,
   "id": "fe36fe7f",
   "metadata": {},
   "outputs": [
    {
     "name": "stdout",
     "output_type": "stream",
     "text": [
      "Lütfen yasınızı girin : 11\n",
      "Yaşınız: 11\n"
     ]
    }
   ],
   "source": [
    "#Kullanıcı ekranından veri alma\n",
    "yas = input('Lütfen yasınızı girin : ')\n",
    "print(\"Yaşınız: \"+yas)"
   ]
  },
  {
   "cell_type": "code",
   "execution_count": 3,
   "id": "250c92fb",
   "metadata": {},
   "outputs": [
    {
     "name": "stdout",
     "output_type": "stream",
     "text": [
      "1. Sayı : 36\n",
      "2. Sayı : 21\n",
      "Toplam : 57.0 \n"
     ]
    }
   ],
   "source": [
    "#Toplama işlemi\n",
    "n1 = float(input('1. Sayı : '))\n",
    "n2 = float(input('2. Sayı : '))\n",
    "toplam = n1 + n2\n",
    "print(\"Toplam : {0} \".format(toplam))"
   ]
  },
  {
   "cell_type": "code",
   "execution_count": 4,
   "id": "c204eed7",
   "metadata": {},
   "outputs": [
    {
     "name": "stdout",
     "output_type": "stream",
     "text": [
      "1. Sayı : 89\n",
      "2. Sayı : 54\n",
      "3. Sayı : 36\n",
      "Ortalama : 59.666666666666664 \n"
     ]
    }
   ],
   "source": [
    "#Ortalama hesaplama\n",
    "s1 = float(input('1. Sayı : '))\n",
    "s2 = float(input('2. Sayı : '))\n",
    "s3 = float(input('3. Sayı : '))\n",
    "sonuc = (s1 + s2 + s3) / 3\n",
    "print(\"Ortalama : {0} \".format(sonuc))"
   ]
  },
  {
   "cell_type": "code",
   "execution_count": 5,
   "id": "184e2132",
   "metadata": {},
   "outputs": [
    {
     "name": "stdout",
     "output_type": "stream",
     "text": [
      "Yarıçap : 3\n",
      "Alan : 28.259999999999998 \n",
      "Çevresi : 18.84 \n"
     ]
    }
   ],
   "source": [
    "#Dairenin alanını ve çevresini hesaplama\n",
    "yaricap = input('Yarıçap : ')\n",
    "pi = 3.14\n",
    "alan = float(pi) * float(yaricap) * float(yaricap)\n",
    "cevre = 2 * float(pi) * float(yaricap)\n",
    "print(\"Alan : {0} \".format(alan))\n",
    "print(\"Çevresi : {0} \".format(cevre))"
   ]
  },
  {
   "cell_type": "code",
   "execution_count": null,
   "id": "e392a50f",
   "metadata": {},
   "outputs": [],
   "source": []
  }
 ],
 "metadata": {
  "kernelspec": {
   "display_name": "Python 3 (ipykernel)",
   "language": "python",
   "name": "python3"
  },
  "language_info": {
   "codemirror_mode": {
    "name": "ipython",
    "version": 3
   },
   "file_extension": ".py",
   "mimetype": "text/x-python",
   "name": "python",
   "nbconvert_exporter": "python",
   "pygments_lexer": "ipython3",
   "version": "3.9.12"
  }
 },
 "nbformat": 4,
 "nbformat_minor": 5
}
