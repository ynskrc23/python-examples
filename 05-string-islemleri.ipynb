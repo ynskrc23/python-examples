{
 "cells": [
  {
   "cell_type": "code",
   "execution_count": 10,
   "id": "529c55bb",
   "metadata": {},
   "outputs": [
    {
     "name": "stdout",
     "output_type": "stream",
     "text": [
      "Maaşınız : 100\n",
      "Zam Oranı(%) : 10\n",
      "Yeni Maaşınız : 110.0\n"
     ]
    }
   ],
   "source": [
    "#zamlı maaş hesaplama programı\n",
    "def zamHesapla(maas,zamOrani):\n",
    "    yeniMaas = maas + (maas * zamOrani / 100)\n",
    "    return yeniMaas\n",
    "\n",
    "yeniMaas=0\n",
    "maas = int(input(\"Maaşınız : \"))\n",
    "zamOrani = int(input(\"Zam Oranı(%) : \"))\n",
    "\n",
    "print(\"Yeni Maaşınız :\",zamHesapla(maas,zamOrani))"
   ]
  },
  {
   "cell_type": "code",
   "execution_count": 12,
   "id": "cfbc9066",
   "metadata": {},
   "outputs": [
    {
     "name": "stdout",
     "output_type": "stream",
     "text": [
      "Bir metin girin : deneme lorem ipsum sayısını giriniz\n",
      "Girinlen ifadede 4 tane e vardır\n"
     ]
    }
   ],
   "source": [
    "#girilen metinde kaç tane e harfinin geçtiğni bulan program\n",
    "metin = input(\"Bir metin girin : \")\n",
    " \n",
    "adet = metin.count(\"e\")\n",
    "print(\"Girinlen ifadede {} tane e vardır\".format(adet))"
   ]
  },
  {
   "cell_type": "code",
   "execution_count": 17,
   "id": "3d935670",
   "metadata": {},
   "outputs": [
    {
     "name": "stdout",
     "output_type": "stream",
     "text": [
      "Kaç saat kaldınız : 12\n",
      "Ödenecek Tutar : 60\n"
     ]
    }
   ],
   "source": [
    "#otopark ücretini hesaplayan program\n",
    "def otoparkFiyati(sure):\n",
    "    if sure <= 1:\n",
    "        ucret = sure * 5\n",
    "        return ucret\n",
    "    elif sure <= 3:\n",
    "        ucret = sure * 7\n",
    "        return ucret\n",
    "    else:\n",
    "        ucret = sure * 5\n",
    "        return ucret\n",
    "\n",
    "sure = int(input(\"Kaç saat kaldınız : \"))\n",
    "print(\"Ödenecek Tutar :\",otoparkFiyati(sure))"
   ]
  },
  {
   "cell_type": "code",
   "execution_count": null,
   "id": "00f386c9",
   "metadata": {},
   "outputs": [],
   "source": []
  },
  {
   "cell_type": "code",
   "execution_count": null,
   "id": "1dbfbd0e",
   "metadata": {},
   "outputs": [],
   "source": []
  }
 ],
 "metadata": {
  "kernelspec": {
   "display_name": "Python 3 (ipykernel)",
   "language": "python",
   "name": "python3"
  },
  "language_info": {
   "codemirror_mode": {
    "name": "ipython",
    "version": 3
   },
   "file_extension": ".py",
   "mimetype": "text/x-python",
   "name": "python",
   "nbconvert_exporter": "python",
   "pygments_lexer": "ipython3",
   "version": "3.9.12"
  }
 },
 "nbformat": 4,
 "nbformat_minor": 5
}
