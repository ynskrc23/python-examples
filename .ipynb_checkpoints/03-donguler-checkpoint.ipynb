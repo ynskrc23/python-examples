{
 "cells": [
  {
   "cell_type": "code",
   "execution_count": 1,
   "id": "92ef1fd0",
   "metadata": {},
   "outputs": [
    {
     "name": "stdout",
     "output_type": "stream",
     "text": [
      "1\n",
      "2\n",
      "3\n",
      "4\n",
      "5\n",
      "6\n",
      "7\n",
      "8\n"
     ]
    }
   ],
   "source": [
    "#1-8 arasındaki sayıları yazdırma\n",
    "for m in range(1,9) :\n",
    "    print(m)"
   ]
  },
  {
   "cell_type": "code",
   "execution_count": 2,
   "id": "ef385ca9",
   "metadata": {},
   "outputs": [
    {
     "name": "stdout",
     "output_type": "stream",
     "text": [
      "degeri giriniz : 3\n",
      "merhaba elbistan\n",
      "merhaba elbistan\n",
      "merhaba elbistan\n"
     ]
    }
   ],
   "source": [
    "#girilen değer kadar yazı yazdırma\n",
    "number = int(input(\"degeri giriniz : \"))\n",
    "text = \"merhaba elbistan\"\n",
    "for m in range(number) :\n",
    "    print(text)"
   ]
  },
  {
   "cell_type": "code",
   "execution_count": 3,
   "id": "7bc3b08f",
   "metadata": {},
   "outputs": [
    {
     "name": "stdout",
     "output_type": "stream",
     "text": [
      "5\n",
      "7\n",
      "10\n",
      "14\n",
      "15\n",
      "20\n",
      "21\n",
      "25\n",
      "28\n",
      "30\n",
      "35\n",
      "40\n",
      "42\n",
      "45\n",
      "49\n",
      "50\n"
     ]
    }
   ],
   "source": [
    "#1-50 Arası 5′ e ve 7′ e tam bölünen sayıları bulan Python programı\n",
    "for i in range(1,51):\n",
    "    if i % 5 == 0 or i % 7 == 0:\n",
    "        print(i)"
   ]
  },
  {
   "cell_type": "code",
   "execution_count": 4,
   "id": "4d49d943",
   "metadata": {},
   "outputs": [
    {
     "name": "stdout",
     "output_type": "stream",
     "text": [
      "21\n",
      "42\n"
     ]
    }
   ],
   "source": [
    "#1-50 arasında hem 3′ e hemde 7′ e tam bölünen sayıları bulan Python programı\n",
    "for i in range(1,51):\n",
    "    if i % 3 == 0 and i % 7 == 0:\n",
    "        print(i)"
   ]
  },
  {
   "cell_type": "code",
   "execution_count": 5,
   "id": "d12d4336",
   "metadata": {},
   "outputs": [
    {
     "name": "stdout",
     "output_type": "stream",
     "text": [
      "lütfen sayı giriniz: 17\n",
      "asal sayı\n"
     ]
    }
   ],
   "source": [
    "#Girilen sayının asal olup olmadığını bulan program\n",
    "sayac=0\n",
    "number=int(input('lütfen sayı giriniz: '))\n",
    "for i in range(2,number):\n",
    "      if(number % i == 0):\n",
    "            sayac+=1\n",
    "            break\n",
    "if(sayac!=0):\n",
    "      print(\"asal sayı değil\")\n",
    "else:\n",
    "      print(\"asal sayı\")"
   ]
  },
  {
   "cell_type": "code",
   "execution_count": 6,
   "id": "cc19e4ad",
   "metadata": {},
   "outputs": [
    {
     "name": "stdout",
     "output_type": "stream",
     "text": [
      "adınızı giriniz: yunus\n",
      "y\n",
      "u\n",
      "n\n",
      "u\n",
      "s\n"
     ]
    }
   ],
   "source": [
    "#Girilen metnin harflerini alt alta yazdırma\n",
    "isim=input(\"adınızı giriniz: \")\n",
    "m=0\n",
    "while m < len(isim):\n",
    "    print(isim[m])\n",
    "    m += 1"
   ]
  },
  {
   "cell_type": "code",
   "execution_count": null,
   "id": "3180fdb5",
   "metadata": {},
   "outputs": [],
   "source": []
  }
 ],
 "metadata": {
  "kernelspec": {
   "display_name": "Python 3 (ipykernel)",
   "language": "python",
   "name": "python3"
  },
  "language_info": {
   "codemirror_mode": {
    "name": "ipython",
    "version": 3
   },
   "file_extension": ".py",
   "mimetype": "text/x-python",
   "name": "python",
   "nbconvert_exporter": "python",
   "pygments_lexer": "ipython3",
   "version": "3.9.12"
  }
 },
 "nbformat": 4,
 "nbformat_minor": 5
}
