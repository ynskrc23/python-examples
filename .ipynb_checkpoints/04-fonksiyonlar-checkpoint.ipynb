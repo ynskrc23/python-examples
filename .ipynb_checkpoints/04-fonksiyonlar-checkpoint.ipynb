{
 "cells": [
  {
   "cell_type": "code",
   "execution_count": 1,
   "id": "31296fdc",
   "metadata": {},
   "outputs": [
    {
     "name": "stdout",
     "output_type": "stream",
     "text": [
      "1 ile 50 arasında değer giriniz:26\n",
      "Daha Düşük Bir Sayı Giriniz.\n",
      "1 ile 50 arasında değer giriniz:36\n",
      "Daha Düşük Bir Sayı Giriniz.\n",
      "1 ile 50 arasında değer giriniz:20\n",
      "Daha Yüksek Bir Sayı Giriniz.\n",
      "1 ile 50 arasında değer giriniz:28\n",
      "Daha Düşük Bir Sayı Giriniz.\n",
      "1 ile 50 arasında değer giriniz:25\n",
      "Daha Düşük Bir Sayı Giriniz.\n",
      "1 ile 50 arasında değer giriniz:22\n",
      "Seçilen sayı 22!\n",
      "Tahmin sayınız 6\n"
     ]
    }
   ],
   "source": [
    "#sayı tahmin programı\n",
    "from random import randint\n",
    " \n",
    "randNumber=randint(1, 50)\n",
    "i=0\n",
    " \n",
    "while True:\n",
    "    i+=1\n",
    "    sayi=int(input(\"1 ile 50 arasında değer giriniz:\"))\n",
    "    if sayi < randNumber:\n",
    "        print(\"Daha Yüksek Bir Sayı Giriniz.\")\n",
    "        continue\n",
    "    elif sayi > randNumber:\n",
    "        print(\"Daha Düşük Bir Sayı Giriniz.\")\n",
    "        continue\n",
    "    else:\n",
    "        print(\"Seçilen sayı {0}!\".format(randNumber))\n",
    "        print(\"Tahmin sayınız {0}\".format(i))\n",
    "        break"
   ]
  },
  {
   "cell_type": "code",
   "execution_count": 2,
   "id": "e5225310",
   "metadata": {},
   "outputs": [
    {
     "name": "stdout",
     "output_type": "stream",
     "text": [
      "kenar uzunlugunu giriniz :24\n",
      "alan : 576.0\n",
      "cevresi : 96.0\n"
     ]
    },
    {
     "data": {
      "text/plain": [
       "96.0"
      ]
     },
     "execution_count": 2,
     "metadata": {},
     "output_type": "execute_result"
    }
   ],
   "source": [
    "#karenin alanını ve çevre uzunluğunu hesaplayan program\n",
    "def kareAlan(kenarUzunlugu):\n",
    "    alan = kenarUzunlugu * kenarUzunlugu\n",
    "    print (\"alan :\",alan)\n",
    "    return alan\n",
    "\n",
    "def kareCevresi(kenarUzunlugu):\n",
    "    cevre = kenarUzunlugu * 4\n",
    "    print (\"cevresi :\",cevre)\n",
    "    return cevre\n",
    " \n",
    "kenar = float(input(\"kenar uzunlugunu giriniz :\"))\n",
    " \n",
    "kareAlan(kenar)\n",
    "kareCevresi(kenar)"
   ]
  },
  {
   "cell_type": "code",
   "execution_count": 6,
   "id": "9527cf5d",
   "metadata": {},
   "outputs": [
    {
     "name": "stdout",
     "output_type": "stream",
     "text": [
      "sayi giriniz :26\n",
      "çift sayı\n"
     ]
    }
   ],
   "source": [
    "#sayinin çift mi tek mi olduğunu kontrol eden program\n",
    "def ciftmi(sayi):\n",
    "    return sayi % 2 == 0\n",
    "\n",
    "sayi = int(input(\"sayi giriniz :\"))\n",
    "if(ciftmi(sayi)):\n",
    "    print(\"çift sayı\")\n",
    "else:\n",
    "    print(\"tek sayı\")"
   ]
  },
  {
   "cell_type": "code",
   "execution_count": null,
   "id": "18321b06",
   "metadata": {},
   "outputs": [],
   "source": []
  }
 ],
 "metadata": {
  "kernelspec": {
   "display_name": "Python 3 (ipykernel)",
   "language": "python",
   "name": "python3"
  },
  "language_info": {
   "codemirror_mode": {
    "name": "ipython",
    "version": 3
   },
   "file_extension": ".py",
   "mimetype": "text/x-python",
   "name": "python",
   "nbconvert_exporter": "python",
   "pygments_lexer": "ipython3",
   "version": "3.9.12"
  }
 },
 "nbformat": 4,
 "nbformat_minor": 5
}
